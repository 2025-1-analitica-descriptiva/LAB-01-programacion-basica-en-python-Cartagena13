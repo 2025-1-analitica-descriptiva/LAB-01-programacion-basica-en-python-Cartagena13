{
 "cells": [
  {
   "cell_type": "code",
   "execution_count": 54,
   "id": "bfbb6e01",
   "metadata": {},
   "outputs": [
    {
     "name": "stdout",
     "output_type": "stream",
     "text": [
      "Ruta CSV: c:\\Posgrado\\adyvd\\labs\\LAB-01-programacion-basica-en-python-Cartagena13\\files\\input\\data.csv\n",
      "..\\files\\input\\data.csv\n"
     ]
    }
   ],
   "source": [
    "import csv\n",
    "import os\n",
    "ruta_csv = os.path.join(\"..\", \"files\", \"input\", \"data.csv\")\n",
    "print(\"Ruta CSV:\", os.path.abspath(ruta_csv))\n",
    "print(ruta_csv)"
   ]
  },
  {
   "cell_type": "code",
   "execution_count": 46,
   "id": "024659f6",
   "metadata": {},
   "outputs": [
    {
     "name": "stdout",
     "output_type": "stream",
     "text": [
      "Suma de la segunda columna: 214\n"
     ]
    }
   ],
   "source": [
    "suma=0\n",
    "with open(ruta_csv) as file:\n",
    "    lector = csv.reader(file, delimiter=\"\\t\")\n",
    "    for fila in lector:\n",
    "        #print(fila[1])\n",
    "        suma += int(fila[1])  # Segunda columna (índice 1)\n",
    "\n",
    "print(\"Suma de la segunda columna:\", suma)"
   ]
  },
  {
   "cell_type": "code",
   "execution_count": 24,
   "id": "754d8feb",
   "metadata": {},
   "outputs": [
    {
     "data": {
      "text/plain": [
       "<_csv.reader at 0x21f9fb09940>"
      ]
     },
     "execution_count": 24,
     "metadata": {},
     "output_type": "execute_result"
    }
   ],
   "source": [
    "lector"
   ]
  },
  {
   "cell_type": "code",
   "execution_count": 25,
   "id": "484b0819",
   "metadata": {},
   "outputs": [
    {
     "data": {
      "text/plain": [
       "<_io.TextIOWrapper name='..\\\\files/input/data.csv' mode='r' encoding='cp1252'>"
      ]
     },
     "execution_count": 25,
     "metadata": {},
     "output_type": "execute_result"
    }
   ],
   "source": [
    "file"
   ]
  },
  {
   "cell_type": "code",
   "execution_count": 88,
   "id": "d0ba5e0f",
   "metadata": {},
   "outputs": [
    {
     "name": "stdout",
     "output_type": "stream",
     "text": [
      "[('A', 8), ('B', 7), ('C', 5), ('D', 6), ('E', 14)]\n"
     ]
    }
   ],
   "source": [
    "import csv\n",
    "import os\n",
    "from collections import Counter\n",
    "\n",
    "ruta_csv = os.path.join(\"..\", \"files\", \"input\", \"data.csv\")\n",
    "# recorre el archivo y almacena la data: cada fila es una lista compuesta de los elementos de cada columna\n",
    "with open(ruta_csv) as file:\n",
    "    archivo = csv.reader(file, delimiter=\"\\t\")\n",
    "    letra= [fila[0] for fila in archivo]\n",
    "    count=Counter(letra)\n",
    "print(sorted(count.items()))\n",
    "\n"
   ]
  },
  {
   "cell_type": "code",
   "execution_count": 92,
   "id": "5e301f5d",
   "metadata": {},
   "outputs": [
    {
     "name": "stdout",
     "output_type": "stream",
     "text": [
      "[('A', 8), ('B', 7), ('C', 5), ('D', 6), ('E', 14)]\n",
      "['E', 'A', 'B', 'A', 'C', 'A', 'A', 'B', 'E', 'B', 'C', 'C', 'D', 'E', 'B', 'D', 'E', 'D', 'E', 'E', 'E', 'E', 'D', 'A', 'E', 'E', 'A', 'E', 'A', 'C', 'A', 'D', 'E', 'B', 'B', 'D', 'B', 'C', 'E', 'E']\n"
     ]
    }
   ],
   "source": [
    "with open(ruta_csv) as file:\n",
    "    archivo = csv.reader(file, delimiter=\"\\t\")\n",
    "    letra=[]\n",
    "    for line in archivo:\n",
    "        letra.append(line[0])\n",
    "    count=Counter(letra)\n",
    "print (sorted(count.items()))\n",
    "print(letra)"
   ]
  },
  {
   "cell_type": "code",
   "execution_count": 7,
   "id": "b3ee1b31",
   "metadata": {},
   "outputs": [
    {
     "name": "stdout",
     "output_type": "stream",
     "text": [
      "defaultdict(<class 'int'>, {})\n",
      "[('A', 53), ('B', 36), ('C', 27), ('D', 31), ('E', 67)]\n"
     ]
    }
   ],
   "source": [
    "import csv\n",
    "import os\n",
    "from collections import defaultdict\n",
    "\n",
    "ruta_csv = os.path.join(\"..\", \"files\", \"input\", \"data.csv\")\n",
    "sumletra=defaultdict(int)\n",
    "print(sumletra)\n",
    "with open(ruta_csv) as file:\n",
    "    archivo = csv.reader(file, delimiter=\"\\t\")\n",
    "    for line in archivo:\n",
    "        letra=line[0]\n",
    "        valor=line[1]\n",
    "        sumletra[letra]+=int(valor)\n",
    "print(sorted(sumletra.items()))\n",
    "\n"
   ]
  },
  {
   "cell_type": "code",
   "execution_count": 22,
   "id": "2df87316",
   "metadata": {},
   "outputs": [
    {
     "name": "stdout",
     "output_type": "stream",
     "text": [
      "1999-02-28\n",
      "1999-10-28\n",
      "1998-05-02\n",
      "1999-08-28\n",
      "1999-12-01\n",
      "1998-07-28\n",
      "1997-02-28\n",
      "1999-05-10\n",
      "1997-04-12\n",
      "1999-11-23\n",
      "1998-01-17\n",
      "1998-12-28\n",
      "1999-10-15\n",
      "1998-11-01\n",
      "1999-08-12\n",
      "1997-12-01\n",
      "1997-07-28\n",
      "1998-08-12\n",
      "1999-08-24\n",
      "1998-01-23\n",
      "1999-06-22\n",
      "1999-04-24\n",
      "1999-06-25\n",
      "1999-08-25\n",
      "1997-07-26\n",
      "1997-09-24\n",
      "1997-09-28\n",
      "1999-06-22\n",
      "1999-07-29\n",
      "1999-08-22\n",
      "1998-04-26\n",
      "1998-02-24\n",
      "1999-03-24\n",
      "1998-03-23\n",
      "1999-04-21\n",
      "1999-02-29\n",
      "1997-05-21\n",
      "1997-07-22\n",
      "1999-09-28\n",
      "1998-01-26\n",
      "[('01', 3), ('02', 4), ('03', 2), ('04', 4), ('05', 3), ('06', 3), ('07', 5), ('08', 5), ('09', 3), ('10', 2), ('11', 2), ('12', 3)]\n"
     ]
    }
   ],
   "source": [
    "import csv\n",
    "import os\n",
    "ruta_csv = os.path.join(\"..\", \"files\", \"input\", \"data.csv\")\n",
    "conteo=defaultdict(int)\n",
    "from collections import Counter\n",
    "from collections import defaultdict\n",
    "\n",
    "with open(ruta_csv) as file:\n",
    "    archivo = csv.reader(file, delimiter=\"\\t\")\n",
    "    for line in archivo:\n",
    "        fecha=line[2]\n",
    "        print(fecha)\n",
    "        mes=fecha.split(\"-\")[1]\n",
    "        valor=line[1]\n",
    "        conteo[mes]+=int((int(valor)/int(valor)) if int(valor) != 0 else 0)\n",
    "print(sorted(conteo.items()))\n",
    "\n"
   ]
  },
  {
   "cell_type": "code",
   "execution_count": null,
   "id": "8d20f534",
   "metadata": {},
   "outputs": [
    {
     "name": "stdout",
     "output_type": "stream",
     "text": [
      "[['A', 2, 9], ['B', 1, 9], ['C', 0, 9], ['D', 3, 8], ['E', 1, 9]]\n"
     ]
    }
   ],
   "source": [
    "import csv\n",
    "import os\n",
    "ruta_csv = os.path.join(\"..\", \"files\", \"input\", \"data.csv\")\n",
    "resul=[]\n",
    "group={}\n",
    "with open(ruta_csv) as file:\n",
    "    archivo = csv.reader(file, delimiter=\"\\t\")\n",
    "    for line in archivo:\n",
    "        letra=line[0]\n",
    "        valor=int(line[1])\n",
    "        if letra in group:\n",
    "            group[letra].append(valor)\n",
    "        else:\n",
    "            group[letra]=[valor]\n",
    "for letra in sorted(group.keys()):\n",
    "    maxi=max(group[letra])\n",
    "    mini=min(group[letra])\n",
    "    resul.append((letra, mini, maxi))\n",
    "return(resul)       \n",
    "    \n"
   ]
  },
  {
   "cell_type": "code",
   "execution_count": 27,
   "id": "ff3ced6c",
   "metadata": {},
   "outputs": [
    {
     "name": "stdout",
     "output_type": "stream",
     "text": [
      "defaultdict(<class 'list'>, {'jjj': [12, 12, 12, 7, 9, 12, 12, 6, 5, 17, 12, 6, 7, 13, 8, 9, 17, 5], 'bbb': [3, 1, 2, 2, 7, 7, 9, 9, 6, 9, 3, 7, 3, 7, 8, 4], 'ddd': [9, 0, 2, 5, 2, 2, 5, 3, 3, 2, 9, 7, 9, 4, 5, 9, 6, 0, 5, 0, 7, 3, 5], 'ggg': [8, 5, 6, 3, 9, 9, 7, 8, 6, 10, 3, 3, 3], 'hhh': [2, 9, 9, 0, 1, 6, 5, 4, 9, 3, 6, 1, 5, 6, 6, 8], 'ccc': [2, 6, 4, 1, 5, 6, 7, 8, 9, 1, 5, 7, 4, 1, 4, 10, 3, 7, 6, 1, 1, 3, 10], 'aaa': [3, 7, 5, 3, 8, 2, 3, 4, 1, 2, 9, 6, 1], 'iii': [5, 6, 0, 9, 4, 0, 6, 3, 6, 2, 7, 7, 4, 7, 4, 7, 7, 2], 'eee': [7, 4, 4, 3, 4, 2, 6, 3, 6, 5, 1, 5, 5, 3, 5], 'fff': [1, 8, 3, 7, 5, 2, 4, 7, 4, 9, 1, 8, 3, 0, 4, 9, 3, 5, 2, 9]})\n",
      "[('aaa', 1, 9), ('bbb', 1, 9), ('ccc', 1, 10), ('ddd', 0, 9), ('eee', 1, 7), ('fff', 0, 9), ('ggg', 3, 10), ('hhh', 0, 9), ('iii', 0, 9), ('jjj', 5, 17)]\n"
     ]
    }
   ],
   "source": [
    "import csv\n",
    "import os\n",
    "from collections import defaultdict\n",
    "ruta_csv = os.path.join(\"..\", \"files\", \"input\", \"data.csv\")\n",
    "dicc=defaultdict(list)\n",
    "with open(ruta_csv) as file:\n",
    "    archivo = csv.reader(file, delimiter=\"\\t\")\n",
    "\n",
    "    for line in archivo:\n",
    "        col=line[4]\n",
    "        pares=col.split(\",\")\n",
    "\n",
    "        for i in pares:\n",
    "            clave,valor=i.split(\":\")\n",
    "            dicc[clave].append((int(valor)))\n",
    "answer=[]\n",
    "print(dicc)\n",
    "for clave in sorted(dicc.keys()):\n",
    "    mini=min(dicc[clave])\n",
    "    maxi=max(dicc[clave])\n",
    "    answer.append((clave, mini, maxi))\n",
    "print(answer)"
   ]
  },
  {
   "cell_type": "code",
   "execution_count": 31,
   "id": "94a8284e",
   "metadata": {},
   "outputs": [
    {
     "name": "stdout",
     "output_type": "stream",
     "text": [
      "[(0, ['C']), (1, ['E', 'B', 'E']), (2, ['A', 'E']), (3, ['A', 'B', 'D', 'E', 'E', 'D']), (4, ['E', 'B']), (5, ['B', 'C', 'D', 'D', 'E', 'E', 'E']), (6, ['C', 'E', 'A', 'B']), (7, ['A', 'C', 'E', 'D']), (8, ['E', 'D', 'E', 'A', 'B']), (9, ['A', 'B', 'E', 'A', 'A', 'C'])]\n"
     ]
    }
   ],
   "source": [
    "import csv\n",
    "import os\n",
    "from collections import defaultdict\n",
    "ruta_csv = os.path.join(\"..\", \"files\", \"input\", \"data.csv\")\n",
    "dicc=defaultdict(list)\n",
    "with open(ruta_csv) as file:\n",
    "    archivo = csv.reader(file, delimiter=\"\\t\")\n",
    "    for line in archivo:\n",
    "        letra=line[0]\n",
    "        valor=int(line[1])\n",
    "        dicc[valor].append(letra)\n",
    "resultado=sorted(dicc.items())\n",
    "print(resultado)"
   ]
  },
  {
   "cell_type": "code",
   "execution_count": null,
   "id": "af8bbfb1",
   "metadata": {},
   "outputs": [
    {
     "name": "stdout",
     "output_type": "stream",
     "text": [
      "{'B', 'E'}\n",
      "{'B', 'E'}\n",
      "{'B', 'E'}\n",
      "{'B', 'E'}\n",
      "{'B', 'E'}\n",
      "{'B', 'E'}\n",
      "{'B', 'E'}\n",
      "{'B', 'E'}\n",
      "{'B', 'E'}\n",
      "{'B', 'E'}\n",
      "[(0, ['C']), (1, ['B', 'E']), (2, ['A', 'E']), (3, ['A', 'B', 'D', 'E']), (4, ['B', 'E']), (5, ['B', 'C', 'D', 'E']), (6, ['A', 'B', 'C', 'E']), (7, ['A', 'C', 'D', 'E']), (8, ['A', 'B', 'D', 'E']), (9, ['A', 'B', 'C', 'E'])]\n"
     ]
    }
   ],
   "source": [
    "import csv\n",
    "import os\n",
    "from collections import defaultdict\n",
    "ruta_csv = os.path.join(\"..\", \"files\", \"input\", \"data.csv\")\n",
    "dicc=defaultdict(set)\n",
    "with open(ruta_csv) as file:\n",
    "    archivo = csv.reader(file, delimiter=\"\\t\")\n",
    "    for line in archivo:\n",
    "        letra=line[0]\n",
    "        valor=int(line[1])\n",
    "        dicc[valor].add(letra)\n",
    "resultado=[]\n",
    "for n in sorted(dicc.keys()):\n",
    "    letra_ordenada=sorted(dicc[n])\n",
    "    resultado.append((n, letra_ordenada))\n",
    "print(resultado)"
   ]
  },
  {
   "cell_type": "code",
   "execution_count": 9,
   "id": "f849eb43",
   "metadata": {},
   "outputs": [
    {
     "name": "stdout",
     "output_type": "stream",
     "text": [
      "{'A': 177, 'B': 187, 'C': 114, 'D': 136, 'E': 324}\n"
     ]
    }
   ],
   "source": [
    "import csv\n",
    "import os\n",
    "from collections import defaultdict\n",
    "ruta_csv = os.path.join(\"..\", \"files\", \"input\", \"data.csv\")\n",
    "suma_por_letra = defaultdict(int)\n",
    "with open(ruta_csv) as file:        \n",
    "    archivo = csv.reader(file, delimiter=\"\\t\")\n",
    "\n",
    "    for line in archivo:\n",
    "        par=line[4].split(\",\")\n",
    "        letra1=line[0]\n",
    "        for i in par:\n",
    "            valor=int(i.split(\":\")[1])\n",
    "            suma_por_letra[letra1] += valor\n",
    "    suma_dict = dict(sorted(suma_por_letra.items()))\n",
    "\n",
    "print(suma_dict ) "
   ]
  }
 ],
 "metadata": {
  "kernelspec": {
   "display_name": ".venv",
   "language": "python",
   "name": "python3"
  },
  "language_info": {
   "codemirror_mode": {
    "name": "ipython",
    "version": 3
   },
   "file_extension": ".py",
   "mimetype": "text/x-python",
   "name": "python",
   "nbconvert_exporter": "python",
   "pygments_lexer": "ipython3",
   "version": "3.9.0"
  }
 },
 "nbformat": 4,
 "nbformat_minor": 5
}
